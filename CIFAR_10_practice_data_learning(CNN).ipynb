{
  "nbformat": 4,
  "nbformat_minor": 0,
  "metadata": {
    "colab": {
      "provenance": [],
      "gpuType": "T4"
    },
    "kernelspec": {
      "name": "python3",
      "display_name": "Python 3"
    },
    "language_info": {
      "name": "python"
    },
    "accelerator": "GPU"
  },
  "cells": [
    {
      "cell_type": "code",
      "execution_count": null,
      "metadata": {
        "id": "afQLu8nm_P3c"
      },
      "outputs": [],
      "source": [
        "import tensorflow as tf\n",
        "from tensorflow import keras\n",
        "import numpy as np\n",
        "import matplotlib.pyplot as plt"
      ]
    },
    {
      "cell_type": "code",
      "source": [
        "(X_train,Y_train),(X_test,Y_test) = keras.datasets.cifar10.load_data()"
      ],
      "metadata": {
        "id": "HfqUdGpXEwQF",
        "colab": {
          "base_uri": "https://localhost:8080/"
        },
        "outputId": "ee2b99ff-4ae9-4163-d1f7-95e7e83aef15"
      },
      "execution_count": null,
      "outputs": [
        {
          "output_type": "stream",
          "name": "stdout",
          "text": [
            "Downloading data from https://www.cs.toronto.edu/~kriz/cifar-10-python.tar.gz\n",
            "\u001b[1m170498071/170498071\u001b[0m \u001b[32m━━━━━━━━━━━━━━━━━━━━\u001b[0m\u001b[37m\u001b[0m \u001b[1m5s\u001b[0m 0us/step\n"
          ]
        }
      ]
    },
    {
      "cell_type": "code",
      "source": [
        "print(X_train.shape)\n",
        "print(Y_train.shape)\n",
        "print(X_test.shape)\n",
        "print(Y_test.shape)"
      ],
      "metadata": {
        "colab": {
          "base_uri": "https://localhost:8080/"
        },
        "id": "1L6ymTJME4QZ",
        "outputId": "3c0640b2-68ca-4b29-9343-fcf055b605e6"
      },
      "execution_count": null,
      "outputs": [
        {
          "output_type": "stream",
          "name": "stdout",
          "text": [
            "(50000, 32, 32, 3)\n",
            "(50000, 1)\n",
            "(10000, 32, 32, 3)\n",
            "(10000, 1)\n"
          ]
        }
      ]
    },
    {
      "cell_type": "code",
      "source": [
        "print(Y_train[0])"
      ],
      "metadata": {
        "colab": {
          "base_uri": "https://localhost:8080/"
        },
        "id": "GhYrgmhrE9De",
        "outputId": "5346887f-bf55-4474-da68-fbb6430ddcd9"
      },
      "execution_count": null,
      "outputs": [
        {
          "output_type": "stream",
          "name": "stdout",
          "text": [
            "[6]\n"
          ]
        }
      ]
    },
    {
      "cell_type": "code",
      "source": [
        "classes = [\"Airplane\",\"automobile\",\"bird\",\"cat\",\"deer\",\"dog\",\"frog\",\"horse\",\"ship\",\"truck\"]"
      ],
      "metadata": {
        "id": "o7F1nO42E-xM"
      },
      "execution_count": null,
      "outputs": []
    },
    {
      "cell_type": "code",
      "source": [
        "def plot_sample(x,y,index):\n",
        "  plt.figure(figsize=(15,2))\n",
        "  plt.imshow(x[index])\n",
        "  plt.xlabel(classes[y[index][0]])\n",
        "\n",
        "plot_sample(X_train,Y_train,900)"
      ],
      "metadata": {
        "colab": {
          "base_uri": "https://localhost:8080/",
          "height": 237
        },
        "id": "XpCqf0BLFIBx",
        "outputId": "ee62b636-3f8c-4174-ac14-5b2313eb4f44"
      },
      "execution_count": null,
      "outputs": [
        {
          "output_type": "display_data",
          "data": {
            "text/plain": [
              "<Figure size 1500x200 with 1 Axes>"
            ],
            "image/png": "[encoded data removed]"
          },
          "metadata": {}
        }
      ]
    },
    {
      "cell_type": "code",
      "source": [
        "print(X_test[0])"
      ],
      "metadata": {
        "colab": {
          "base_uri": "https://localhost:8080/"
        },
        "id": "z_27AjYbFmVW",
        "outputId": "a9ccd83b-979d-4c03-af2e-032af29259bc"
      },
      "execution_count": null,
      "outputs": [
        {
          "output_type": "stream",
          "name": "stdout",
          "text": [
            "[[[158 112  49]\n",
            "  [159 111  47]\n",
            "  [165 116  51]\n",
            "  ...\n",
            "  [137  95  36]\n",
            "  [126  91  36]\n",
            "  [116  85  33]]\n",
            "\n",
            " [[152 112  51]\n",
            "  [151 110  40]\n",
            "  [159 114  45]\n",
            "  ...\n",
            "  [136  95  31]\n",
            "  [125  91  32]\n",
            "  [119  88  34]]\n",
            "\n",
            " [[151 110  47]\n",
            "  [151 109  33]\n",
            "  [158 111  36]\n",
            "  ...\n",
            "  [139  98  34]\n",
            "  [130  95  34]\n",
            "  [120  89  33]]\n",
            "\n",
            " ...\n",
            "\n",
            " [[ 68 124 177]\n",
            "  [ 42 100 148]\n",
            "  [ 31  88 137]\n",
            "  ...\n",
            "  [ 38  97 146]\n",
            "  [ 13  64 108]\n",
            "  [ 40  85 127]]\n",
            "\n",
            " [[ 61 116 168]\n",
            "  [ 49 102 148]\n",
            "  [ 35  85 132]\n",
            "  ...\n",
            "  [ 26  82 130]\n",
            "  [ 29  82 126]\n",
            "  [ 20  64 107]]\n",
            "\n",
            " [[ 54 107 160]\n",
            "  [ 56 105 149]\n",
            "  [ 45  89 132]\n",
            "  ...\n",
            "  [ 24  77 124]\n",
            "  [ 34  84 129]\n",
            "  [ 21  67 110]]]\n"
          ]
        }
      ]
    },
    {
      "cell_type": "code",
      "source": [
        "X_train = X_train / 255\n",
        "X_test = X_test / 255"
      ],
      "metadata": {
        "id": "lJ9vmabQFJob"
      },
      "execution_count": null,
      "outputs": []
    },
    {
      "cell_type": "code",
      "source": [
        "print(X_test[0])"
      ],
      "metadata": {
        "colab": {
          "base_uri": "https://localhost:8080/"
        },
        "id": "tpzgVJ8WFikG",
        "outputId": "4d5174cc-18bc-4c26-a371-693e3d93b72d"
      },
      "execution_count": null,
      "outputs": [
        {
          "output_type": "stream",
          "name": "stdout",
          "text": [
            "[[[0.61960784 0.43921569 0.19215686]\n",
            "  [0.62352941 0.43529412 0.18431373]\n",
            "  [0.64705882 0.45490196 0.2       ]\n",
            "  ...\n",
            "  [0.5372549  0.37254902 0.14117647]\n",
            "  [0.49411765 0.35686275 0.14117647]\n",
            "  [0.45490196 0.33333333 0.12941176]]\n",
            "\n",
            " [[0.59607843 0.43921569 0.2       ]\n",
            "  [0.59215686 0.43137255 0.15686275]\n",
            "  [0.62352941 0.44705882 0.17647059]\n",
            "  ...\n",
            "  [0.53333333 0.37254902 0.12156863]\n",
            "  [0.49019608 0.35686275 0.1254902 ]\n",
            "  [0.46666667 0.34509804 0.13333333]]\n",
            "\n",
            " [[0.59215686 0.43137255 0.18431373]\n",
            "  [0.59215686 0.42745098 0.12941176]\n",
            "  [0.61960784 0.43529412 0.14117647]\n",
            "  ...\n",
            "  [0.54509804 0.38431373 0.13333333]\n",
            "  [0.50980392 0.37254902 0.13333333]\n",
            "  [0.47058824 0.34901961 0.12941176]]\n",
            "\n",
            " ...\n",
            "\n",
            " [[0.26666667 0.48627451 0.69411765]\n",
            "  [0.16470588 0.39215686 0.58039216]\n",
            "  [0.12156863 0.34509804 0.5372549 ]\n",
            "  ...\n",
            "  [0.14901961 0.38039216 0.57254902]\n",
            "  [0.05098039 0.25098039 0.42352941]\n",
            "  [0.15686275 0.33333333 0.49803922]]\n",
            "\n",
            " [[0.23921569 0.45490196 0.65882353]\n",
            "  [0.19215686 0.4        0.58039216]\n",
            "  [0.1372549  0.33333333 0.51764706]\n",
            "  ...\n",
            "  [0.10196078 0.32156863 0.50980392]\n",
            "  [0.11372549 0.32156863 0.49411765]\n",
            "  [0.07843137 0.25098039 0.41960784]]\n",
            "\n",
            " [[0.21176471 0.41960784 0.62745098]\n",
            "  [0.21960784 0.41176471 0.58431373]\n",
            "  [0.17647059 0.34901961 0.51764706]\n",
            "  ...\n",
            "  [0.09411765 0.30196078 0.48627451]\n",
            "  [0.13333333 0.32941176 0.50588235]\n",
            "  [0.08235294 0.2627451  0.43137255]]]\n"
          ]
        }
      ]
    },
    {
      "cell_type": "code",
      "source": [
        "model = keras.Sequential([\n",
        "    keras.layers.Conv2D(input_shape=(32,32,3),filters=32,kernel_size=(3,3),activation='relu'),\n",
        "    keras.layers.MaxPooling2D((2,2)),\n",
        "\n",
        "    keras.layers.Conv2D(filters=32,kernel_size=(3,3),activation='relu'),\n",
        "    keras.layers.MaxPooling2D((2,2)),\n",
        "\n",
        "    keras.layers.Conv2D(filters=64,kernel_size=(3,3),activation='relu'),\n",
        "    keras.layers.MaxPooling2D((2,2)),\n",
        "\n",
        "    keras.layers.Flatten(),\n",
        "    keras.layers.Dense(64,activation=\"relu\"),\n",
        "    keras.layers.Dense(96,activation=\"relu\"),\n",
        "    keras.layers.Dense(32,activation=\"softmax\")\n",
        "    ])"
      ],
      "metadata": {
        "colab": {
          "base_uri": "https://localhost:8080/"
        },
        "id": "0RI4PTPmFkXq",
        "outputId": "daefd1b2-4946-4b88-d97c-0005cda11268"
      },
      "execution_count": null,
      "outputs": [
        {
          "output_type": "stream",
          "name": "stderr",
          "text": [
            "/usr/local/lib/python3.11/dist-packages/keras/src/layers/convolutional/base_conv.py:107: UserWarning: Do not pass an `input_shape`/`input_dim` argument to a layer. When using Sequential models, prefer using an `Input(shape)` object as the first layer in the model instead.\n",
            "  super().__init__(activity_regularizer=activity_regularizer, **kwargs)\n"
          ]
        }
      ]
    },
    {
      "cell_type": "code",
      "source": [
        "model.compile(optimizer=\"adam\",loss=\"sparse_categorical_crossentropy\",metrics=[\"accuracy\"])\n",
        "model.fit(X_train,Y_train,epochs=10)"
      ],
      "metadata": {
        "colab": {
          "base_uri": "https://localhost:8080/"
        },
        "id": "I1ajpZugIWc4",
        "outputId": "9ae9c904-ad88-4056-bfeb-6513494a3d1b"
      },
      "execution_count": null,
      "outputs": [
        {
          "output_type": "stream",
          "name": "stdout",
          "text": [
            "Epoch 1/10\n",
            "\u001b[1m1563/1563\u001b[0m \u001b[32m━━━━━━━━━━━━━━━━━━━━\u001b[0m\u001b[37m\u001b[0m \u001b[1m10s\u001b[0m 4ms/step - accuracy: 0.2872 - loss: 1.9547\n",
            "Epoch 2/10\n",
            "\u001b[1m1563/1563\u001b[0m \u001b[32m━━━━━━━━━━━━━━━━━━━━\u001b[0m\u001b[37m\u001b[0m \u001b[1m5s\u001b[0m 3ms/step - accuracy: 0.5327 - loss: 1.2880\n",
            "Epoch 3/10\n",
            "\u001b[1m1563/1563\u001b[0m \u001b[32m━━━━━━━━━━━━━━━━━━━━\u001b[0m\u001b[37m\u001b[0m \u001b[1m5s\u001b[0m 3ms/step - accuracy: 0.6027 - loss: 1.1167\n",
            "Epoch 4/10\n",
            "\u001b[1m1563/1563\u001b[0m \u001b[32m━━━━━━━━━━━━━━━━━━━━\u001b[0m\u001b[37m\u001b[0m \u001b[1m5s\u001b[0m 3ms/step - accuracy: 0.6401 - loss: 1.0100\n",
            "Epoch 5/10\n",
            "\u001b[1m1563/1563\u001b[0m \u001b[32m━━━━━━━━━━━━━━━━━━━━\u001b[0m\u001b[37m\u001b[0m \u001b[1m5s\u001b[0m 3ms/step - accuracy: 0.6657 - loss: 0.9408\n",
            "Epoch 6/10\n",
            "\u001b[1m1563/1563\u001b[0m \u001b[32m━━━━━━━━━━━━━━━━━━━━\u001b[0m\u001b[37m\u001b[0m \u001b[1m5s\u001b[0m 3ms/step - accuracy: 0.6811 - loss: 0.8965\n",
            "Epoch 7/10\n",
            "\u001b[1m1563/1563\u001b[0m \u001b[32m━━━━━━━━━━━━━━━━━━━━\u001b[0m\u001b[37m\u001b[0m \u001b[1m6s\u001b[0m 4ms/step - accuracy: 0.7001 - loss: 0.8464\n",
            "Epoch 8/10\n",
            "\u001b[1m1563/1563\u001b[0m \u001b[32m━━━━━━━━━━━━━━━━━━━━\u001b[0m\u001b[37m\u001b[0m \u001b[1m5s\u001b[0m 3ms/step - accuracy: 0.7171 - loss: 0.7997\n",
            "Epoch 9/10\n",
            "\u001b[1m1563/1563\u001b[0m \u001b[32m━━━━━━━━━━━━━━━━━━━━\u001b[0m\u001b[37m\u001b[0m \u001b[1m6s\u001b[0m 4ms/step - accuracy: 0.7218 - loss: 0.7869\n",
            "Epoch 10/10\n",
            "\u001b[1m1563/1563\u001b[0m \u001b[32m━━━━━━━━━━━━━━━━━━━━\u001b[0m\u001b[37m\u001b[0m \u001b[1m5s\u001b[0m 3ms/step - accuracy: 0.7376 - loss: 0.7422\n"
          ]
        },
        {
          "output_type": "execute_result",
          "data": {
            "text/plain": [
              "<keras.src.callbacks.history.History at 0x7c629a704b90>"
            ]
          },
          "metadata": {},
          "execution_count": 11
        }
      ]
    },
    {
      "cell_type": "code",
      "source": [
        "y_pred = model.predict(X_test)\n",
        "y_pred[:5]"
      ],
      "metadata": {
        "colab": {
          "base_uri": "https://localhost:8080/"
        },
        "id": "xSdLU8vfJfyW",
        "outputId": "c7ee3564-6e8d-4048-b8c5-38ee3efea49e"
      },
      "execution_count": null,
      "outputs": [
        {
          "output_type": "stream",
          "name": "stdout",
          "text": [
            "\u001b[1m313/313\u001b[0m \u001b[32m━━━━━━━━━━━━━━━━━━━━\u001b[0m\u001b[37m\u001b[0m \u001b[1m1s\u001b[0m 3ms/step\n"
          ]
        },
        {
          "output_type": "execute_result",
          "data": {
            "text/plain": [
              "array([[1.76731553e-02, 4.62106988e-02, 1.77227636e-03, 7.24369407e-01,\n",
              "        1.38258736e-03, 1.02208387e-02, 3.87510359e-02, 1.72490324e-03,\n",
              "        1.01071514e-01, 5.68235554e-02, 1.29680893e-13, 6.63588596e-13,\n",
              "        2.42146933e-13, 1.93478155e-12, 2.32093533e-13, 8.55536074e-14,\n",
              "        1.42184224e-13, 4.72717975e-14, 5.85139196e-13, 2.83332165e-14,\n",
              "        1.00709737e-13, 1.96290385e-13, 3.52339794e-13, 2.56627757e-14,\n",
              "        2.45970507e-13, 3.72020631e-14, 6.02877801e-14, 4.75507729e-14,\n",
              "        2.12289509e-13, 1.65633918e-13, 4.47500842e-13, 6.30321858e-13],\n",
              "       [1.16821118e-01, 1.94656104e-01, 1.10616543e-06, 1.95830785e-06,\n",
              "        1.11030545e-06, 8.08894374e-09, 1.26461444e-07, 1.06505684e-06,\n",
              "        6.86345458e-01, 2.17194227e-03, 1.53955821e-21, 1.87964031e-21,\n",
              "        1.40795743e-21, 4.94616747e-22, 5.78287601e-22, 2.22364647e-21,\n",
              "        8.23877595e-22, 9.85014590e-22, 2.76058241e-21, 1.77611414e-22,\n",
              "        9.51799835e-22, 1.88340140e-21, 2.77335444e-21, 4.86844460e-22,\n",
              "        2.19752223e-21, 1.01774113e-21, 3.72400458e-22, 2.16373363e-21,\n",
              "        5.08314684e-21, 8.37599029e-22, 2.27433027e-21, 4.80978011e-22],\n",
              "       [2.29212701e-01, 1.68001577e-02, 5.55629237e-03, 6.13310793e-03,\n",
              "        1.28788187e-03, 1.19428302e-03, 7.85176642e-04, 1.81861443e-03,\n",
              "        6.92325175e-01, 4.48865928e-02, 2.18725621e-10, 1.27524116e-10,\n",
              "        2.37974807e-10, 3.68351405e-10, 6.74312134e-11, 1.03049236e-10,\n",
              "        7.10404305e-11, 1.39351974e-10, 1.36097147e-10, 2.21599458e-11,\n",
              "        1.14392579e-10, 3.53730295e-10, 1.50407228e-10, 6.60245122e-11,\n",
              "        4.58052762e-10, 5.23262024e-11, 8.14235623e-11, 5.38456120e-11,\n",
              "        1.08851025e-10, 1.42894613e-10, 2.02012060e-10, 5.52190460e-10],\n",
              "       [9.39136446e-01, 5.75905014e-03, 5.22760209e-03, 9.97185474e-04,\n",
              "        1.76933792e-03, 5.01355389e-05, 2.00887458e-04, 4.03517653e-04,\n",
              "        4.48323190e-02, 1.62352645e-03, 4.95785325e-14, 1.23345082e-14,\n",
              "        2.78036634e-14, 2.88449066e-15, 6.81350296e-15, 3.30554133e-14,\n",
              "        1.04745915e-14, 2.22048450e-14, 3.56537953e-14, 3.75446676e-14,\n",
              "        9.87952125e-14, 3.13816525e-14, 1.09345652e-14, 1.22739817e-14,\n",
              "        3.61839126e-14, 3.98016987e-14, 2.44319471e-14, 2.17527395e-14,\n",
              "        5.30774087e-14, 1.10378710e-14, 1.56859406e-14, 2.43882283e-14],\n",
              "       [1.37966184e-04, 1.32747591e-04, 4.71341470e-03, 1.23565746e-02,\n",
              "        7.57116437e-01, 5.13526378e-04, 2.24627495e-01, 5.36004191e-05,\n",
              "        2.98452593e-04, 4.98022418e-05, 7.27539839e-16, 2.92669286e-16,\n",
              "        3.39774402e-16, 5.96588863e-16, 1.51455431e-15, 3.71497454e-16,\n",
              "        6.74010109e-16, 6.98406882e-16, 4.99589879e-16, 1.25620852e-15,\n",
              "        9.32075902e-16, 2.13249240e-16, 5.61149322e-16, 1.60513453e-15,\n",
              "        3.45992246e-17, 7.72550111e-16, 7.45205082e-16, 4.89013879e-16,\n",
              "        8.01011199e-17, 3.63921697e-16, 3.88458124e-16, 1.40381881e-17]],\n",
              "      dtype=float32)"
            ]
          },
          "metadata": {},
          "execution_count": 12
        }
      ]
    },
    {
      "cell_type": "code",
      "source": [
        "y_t = Y_test.reshape(-1,)\n",
        "y_t"
      ],
      "metadata": {
        "colab": {
          "base_uri": "https://localhost:8080/"
        },
        "id": "NGER8wBULxTr",
        "outputId": "33233f3c-b1a9-432c-e4d0-ab15753fd525"
      },
      "execution_count": null,
      "outputs": [
        {
          "output_type": "execute_result",
          "data": {
            "text/plain": [
              "array([3, 8, 8, ..., 5, 1, 7], dtype=uint8)"
            ]
          },
          "metadata": {},
          "execution_count": 13
        }
      ]
    },
    {
      "cell_type": "code",
      "source": [
        "plot_sample(X_test,Y_test,100)"
      ],
      "metadata": {
        "colab": {
          "base_uri": "https://localhost:8080/",
          "height": 237
        },
        "id": "FchJVbEZMcRp",
        "outputId": "6b90f357-790c-4cd7-e73c-83c5f7b9c0a5"
      },
      "execution_count": null,
      "outputs": [
        {
          "output_type": "display_data",
          "data": {
            "text/plain": [
              "<Figure size 1500x200 with 1 Axes>"
            ],
            "image/png": "[encoded data removed]"
          },
          "metadata": {}
        }
      ]
    },
    {
      "cell_type": "code",
      "source": [],
      "metadata": {
        "id": "9Amr5aGBMgMa"
      },
      "execution_count": null,
      "outputs": []
    }
  ]
}